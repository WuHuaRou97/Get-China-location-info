{
 "cells": [
  {
   "cell_type": "code",
   "execution_count": 1,
   "id": "d5d18568",
   "metadata": {},
   "outputs": [],
   "source": [
    "import requests\n",
    "from lxml import etree"
   ]
  },
  {
   "cell_type": "code",
   "execution_count": 2,
   "id": "1ad31d80",
   "metadata": {},
   "outputs": [],
   "source": [
    "locationUrl1= \"https://restapi.amap.com/v3/geocode/geo?address=\"\n",
    "locationUrl2= \"&output=XML&key=\"\n",
    "key = \"f*********************e\""
   ]
  },
  {
   "cell_type": "code",
   "execution_count": 3,
   "id": "f4fa7348",
   "metadata": {},
   "outputs": [],
   "source": [
    "# 输入 地址\n",
    "# 返回 坐标\n",
    "def get_location(locationText):\n",
    "    # 坐标地址文本嵌入到url中\n",
    "    locationUrl_final = f'{locationUrl1}{locationText}{locationUrl2}{key}'\n",
    "    re = requests.get(locationUrl_final)\n",
    "    if re.status_code ==200:\n",
    "        xml_content = etree.HTML(re.text[39:])\n",
    "        location_int_list = xml_content.xpath('//location/text()')\n",
    "        # longitude=location_int_list[0]\n",
    "        # latitude = location_int_list[1]\n",
    "        text = \",\".join(location_int_list)\n",
    "        return text\n",
    "    else:\n",
    "        print('error')\n",
    "        return \"\""
   ]
  },
  {
   "cell_type": "code",
   "execution_count": 4,
   "id": "938e5d20",
   "metadata": {},
   "outputs": [],
   "source": [
    "# get location from gaode api\n",
    "def get_new_loc_w_ll(ls_location):\n",
    "    new_ls = []\n",
    "    for i in ls_location[:15]:\n",
    "        locationtext = i[:-1]\n",
    "        new_line = f'{locationtext},{get_location(locationtext)}'\n",
    "        new_ls.append(new_line)\n",
    "    return new_ls"
   ]
  },
  {
   "cell_type": "code",
   "execution_count": 5,
   "id": "1e4653dd",
   "metadata": {},
   "outputs": [],
   "source": [
    "# read file\n",
    "with open('全国城市.csv','r') as f:\n",
    "    ls_location = f.readlines()"
   ]
  },
  {
   "cell_type": "code",
   "execution_count": 6,
   "id": "efc6f42e",
   "metadata": {},
   "outputs": [],
   "source": [
    "new_ls = get_new_loc_w_ll(ls_location)"
   ]
  },
  {
   "cell_type": "code",
   "execution_count": 7,
   "id": "e5bb9956",
   "metadata": {},
   "outputs": [],
   "source": [
    "new_str_to_csv = \"\\n\".join(new_ls)\n",
    "with open('location.csv','w') as f:\n",
    "    f.write(str(new_str_to_csv ))"
   ]
  }
 ],
 "metadata": {
  "kernelspec": {
   "display_name": "Python 3 (ipykernel)",
   "language": "python",
   "name": "python3"
  },
  "language_info": {
   "codemirror_mode": {
    "name": "ipython",
    "version": 3
   },
   "file_extension": ".py",
   "mimetype": "text/x-python",
   "name": "python",
   "nbconvert_exporter": "python",
   "pygments_lexer": "ipython3",
   "version": "3.7.3"
  }
 },
 "nbformat": 4,
 "nbformat_minor": 5
}
